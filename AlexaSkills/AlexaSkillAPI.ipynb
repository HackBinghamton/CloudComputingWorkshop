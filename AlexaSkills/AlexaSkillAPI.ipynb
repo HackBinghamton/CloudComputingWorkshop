{
 "cells": [
  {
   "cell_type": "markdown",
   "metadata": {},
   "source": [
    "# Alexa Skills: Making API Requests"
   ]
  },
  {
   "cell_type": "markdown",
   "metadata": {},
   "source": [
    "So you have a great idea for an Alexa Skill, but realized that you will probably need to use an API to make it happen. \n",
    "\n",
    "In order to do this, you need to make an __HTTP Request__ to an API. \n",
    "\n",
    "An HTTP request allows you to get data from a remote source. This includes APIs, websites, and other similar things. (To learn more about HTTP requests, there are links at the bottom of the page.)\n",
    "\n",
    "Most modern languages have HTTP requests as a core functionality. For this workshop, we'll be going over it in Python3, which has a \"Requests\" library. "
   ]
  },
  {
   "cell_type": "markdown",
   "metadata": {},
   "source": [
    "## Our Example API"
   ]
  },
  {
   "cell_type": "markdown",
   "metadata": {},
   "source": [
    "For this workshop, we'll be using the \"Numbers API,\" which can be found at http://numbersapi.com/\n",
    "\n",
    "If you go to the site, you can see that they have generated lists of trivia about numbers from a general trivia perspective, a mathematical perspective, and a date/time-based perspective.\n",
    "\n",
    "If you would like to find other simple (or not so simple) APIs to try this workshop's content on later, some good sources for searching for API's are listed at the bottom of the page!"
   ]
  },
  {
   "cell_type": "markdown",
   "metadata": {},
   "source": [
    "## Voice Interaction"
   ]
  },
  {
   "cell_type": "markdown",
   "metadata": {},
   "source": [
    "Here is a simple interaction that might occur between the user and their Alexa:\n",
    "\n",
    "\n",
    "*__User:__ Alexa, ask number facts to give me a fact about seven.*\n",
    "\n",
    "*__Alexa:__ Seven is the number of main stars in the constellations of the Big Dipper and Orion.*\n",
    "\n",
    "When __User__ says, *“give me a fact about seven”* the __GetNumberFactIntent__ gets called and the number slot in the API is set to ‘7’. Our skill code makes an __http get request__ to numbersapi.com to get a random fact about the number ‘7’. The GET method is used to retrieve information from the given server using a given URI. Requests using GET should only retrieve data and should have no other effect on the data (tutorialspoint)."
   ]
  },
  {
   "cell_type": "markdown",
   "metadata": {},
   "source": [
    "## Making the Request"
   ]
  },
  {
   "cell_type": "markdown",
   "metadata": {},
   "source": [
    "Now we'll be going through the code you should use in order to actually use the API in your Alexa Skill (Code snippets are from the Amazon Alexa Skills Kit).\n",
    "\n",
    "Without using an API, you would have had to \"hard-code\" every one of the number facts. (Hard-coding refers to putting something directly into your source code rather than from an external source.) Here's what that might have looked like:"
   ]
  },
  {
   "cell_type": "code",
   "execution_count": null,
   "metadata": {},
   "outputs": [],
   "source": [
    "number_facts = {\n",
    "    \"1\": \"is the number of moons orbiting the earth.\",\n",
    "    \"2\": \"is the number of stars in a binary star system (a stellar system consisting of two stars orbiting around their center of mass).\",\n",
    "    \"3\": \"is the number of consecutive successful attempts in a hat trick in sports.\",\n",
    "    \"4\": \"is the number of movements in a symphony.\",\n",
    "    \"5\": \"is the number of basic tastes (sweet, salty, sour, bitter, and umami).\",\n",
    "    \"6\": \"is the number of fundamental flight instruments lumped together on a cockpit display.\",\n",
    "    \"7\": \"is the number of main stars in the constellations of the Big Dipper and Orion.\",\n",
    "    \"8\": \"is the number of bits in a byte.\",\n",
    "    \"9\": \"is the number of innings in a regulation, non-tied game of baseball.\",\n",
    "    \"10\": \"is the number of hydrogen atoms in butane, a hydrocarbon.\",\n",
    "    \"11\": \"is the number of players in a football team.\"\n",
    "}"
   ]
  },
  {
   "cell_type": "markdown",
   "metadata": {},
   "source": [
    "If a user asked Alexa to *\"ask number facts to give me a fact about 7,\"* we would have had to pass 7 to __number_facts__ to find the fact, as shown:"
   ]
  },
  {
   "cell_type": "code",
   "execution_count": null,
   "metadata": {},
   "outputs": [],
   "source": [
    "number_facts[\"7\"]"
   ]
  },
  {
   "cell_type": "markdown",
   "metadata": {},
   "source": [
    "This is how we would \"look up\" the fact for our chosen number.\n",
    "\n",
    "__Look Up:__"
   ]
  },
  {
   "cell_type": "code",
   "execution_count": null,
   "metadata": {},
   "outputs": [],
   "source": [
    "the_number = handlerInput.requestEnvelope.request.intent.slots.number.value\n",
    "the_fact = number_facts[the_number]"
   ]
  },
  {
   "cell_type": "markdown",
   "metadata": {},
   "source": [
    "Here's the \"GetNumberFactHandler\" function __before__ we edit it to include our API.\n",
    "\n",
    "__Handler (Before Updates):__"
   ]
  },
  {
   "cell_type": "code",
   "execution_count": null,
   "metadata": {},
   "outputs": [],
   "source": [
    "class GetNumberFactHandler(AbstractRequestHandler):\n",
    "    \"\"\"Handler for get number fact intent.\"\"\"\n",
    "    def can_handle(self, handler_input):\n",
    "        # type: (HandlerInput) -> bool\n",
    "        return (is_request_type(\"LaunchRequest\")(handler_input) or \n",
    "            is_intent_name(\"GetNumberFactIntent\")(handler_input))\n",
    "    def handle(self, handler_input):\n",
    "        # type: (HandlerInput) -> Response\n",
    "        logger.info(\"In GetNumberFactHandler\")\n",
    "        # to enable randint, add \"from random import randint\" at start of file\n",
    "        the_number = None\n",
    "        if is_request_type(\"IntentRequest\")(handler_input):\n",
    "            the_number = handler_input.request_envelope.request.intent.slots[\"number\"].value\n",
    "        if the_number is None:\n",
    "            the_number = str(randint(1,11))\n",
    "        the_fact = the_number + \" \" + number_facts[the_number]\n",
    "        speech = the_number + \" \" + the_fact + \" Would you like to hear another fact?\"\n",
    "        handler_input.response_builder.speak(speech).ask(speech)\n",
    "        return handler_input.response_builder.response"
   ]
  },
  {
   "cell_type": "markdown",
   "metadata": {},
   "source": [
    "Hopefully the handler looks somewhat familiar to you if you have experience with Alexa Skills (or completed the previous tutorials.) This particular snippet is accessing the __number__ slot and looking up the fact using the __number_facts__ object. It's then having the skill state the fact out loud to the user as a response using the __response_builder__.\n",
    "\n",
    "\n",
    "As you can imagine, this would be terribly limiting (or just terribly inefficient, depending on how much time you want to spend) since you would have to hard code every single number/date/etc. the user could ask for. More than likely, you would get tired of this before creating a substantial amount of number facts. \n",
    "\n",
    "To avoid this, we're going to use our \"Number Facts\" API. Here's how we would do it for the number 7 using the Python \"Requests\" library:\n",
    "\n",
    "__Include the Requests Library in your skill:__"
   ]
  },
  {
   "cell_type": "code",
   "execution_count": null,
   "metadata": {},
   "outputs": [],
   "source": [
    "import requests"
   ]
  },
  {
   "cell_type": "markdown",
   "metadata": {},
   "source": [
    "__Call \"requests.get\" from inside the intent(GetNumberFactIntent). This will send a query to the API, and return a result.__"
   ]
  },
  {
   "cell_type": "code",
   "execution_count": null,
   "metadata": {},
   "outputs": [],
   "source": [
    "class GetNumberFactHandler(AbstractRequestHandler):\n",
    "    \"\"\"Handler for get number fact intent.\"\"\"\n",
    "    def can_handle(self, handler_input):\n",
    "        # type: (HandlerInput) -> bool\n",
    "        return (is_request_type(\"LaunchRequest\")(handler_input) or \n",
    "            is_intent_name(\"GetNumberFactIntent\")(handler_input))\n",
    "    def handle(self, handler_input):\n",
    "        # type: (HandlerInput) -> Response\n",
    "        logger.info(\"In GetNumberFactHandler\")\n",
    "        the_number = None\n",
    "        if is_request_type(\"IntentRequest\")(handler_input):\n",
    "            the_number = handler_input.request_envelope.request.intent.slots[\"number\"].value\n",
    "        if the_number is None:\n",
    "            the_number = str(randint(1,11))\n",
    "        url = \"http://numbersapi.com/\" + the_number\n",
    "        response = requests.get(url)\n",
    "        if response.status_code == 200:\n",
    "            the_fact = response.text\n",
    "        else:\n",
    "            the_fact = \"I had trouble getting a fact about \" + the_number + \".\";\n",
    "        speech = the_fact + \" Would you like to hear another fact?\"\n",
    "        handler_input.response_builder.speak(speech).ask(speech)\n",
    "        return handler_input.response_builder.response"
   ]
  },
  {
   "cell_type": "markdown",
   "metadata": {},
   "source": [
    "As you can see, the handler includes the URL and the number, gets a response, and returns it. (It also includes an \"else\" statement in the case of an error, or the website being unable to return a fact at that time.)\n",
    "\n",
    "This is the general process for accessing an API for your Alexa Skill. Although the specifics will vary significantly depending on what API you are trying to use and what data you're trying to get from it, the general process is the same:\n",
    "\n",
    "1) Setting up the voice interaction\n",
    "\n",
    "2) Importing the requests library\n",
    "\n",
    "3) Modifying the event handler to make a \"get request\" from the API's URL\n",
    "\n",
    "4) Retrieving the desired data\n",
    "\n",
    "5) Building and delivering the response\n",
    "\n",
    "Steps 3 and 4 is where you'll have the most variation depending on the API, but many professional ones will also have resources to help you along.\n",
    "\n",
    "\n",
    "\n",
    "Hopefully you found this workshop useful and are able to implement APIs into your future Alexa Skills!"
   ]
  },
  {
   "cell_type": "markdown",
   "metadata": {},
   "source": [
    "As you can see, the handler includes the URL and the number, gets a response, and returns it. (It also includes an \"else\" statement in the case of an error, or the website being unable to return a fact at that time.)\n",
    "\n",
    "This is the general process for accessing an API for your Alexa Skill. Although the specifics will vary significantly depending on what API you are trying to use and what data you're trying to get from it, the general process is the same:\n",
    "\n",
    "1) Setting up the voice interaction\n",
    "\n",
    "2) Importing the requests library\n",
    "\n",
    "3) Modifying the event handler to make a \"get request\" from the API's URL\n",
    "\n",
    "4) Retrieving the desired data\n",
    "\n",
    "5) Building and delivering the response\n",
    "\n",
    "Steps 3 and 4 is where you'll have the most variation depending on the API, but many professional ones will also have resources to help you along.\n",
    "\n",
    "\n",
    "\n",
    "Hopefully you found this workshop useful and are able to implement APIs into your future Alexa Skills!"
   ]
  },
  {
   "cell_type": "markdown",
   "metadata": {},
   "source": [
    "## Helpful Links"
   ]
  },
  {
   "cell_type": "markdown",
   "metadata": {},
   "source": [
    "HTTP requests: \n",
    " - https://www.codecademy.com/articles/http-requests\n",
    " - https://www.tutorialspoint.com/http/http_requests.htm\n",
    " \n",
    "API Sources:\n",
    " - \"A collective list of free APIs for use in software and web development:\" https://github.com/public-apis/public-apis\n",
    " - \"The Largest API Directory on the Web:\" https://www.programmableweb.com/apis/directory\n",
    " - A categorized list of (non-professional but often high-quality) APIs: https://apilist.fun/"
   ]
  }
 ],
 "metadata": {
  "kernelspec": {
   "display_name": "Python 3",
   "language": "python",
   "name": "python3"
  },
  "language_info": {
   "codemirror_mode": {
    "name": "ipython",
    "version": 3
   },
   "file_extension": ".py",
   "mimetype": "text/x-python",
   "name": "python",
   "nbconvert_exporter": "python",
   "pygments_lexer": "ipython3",
   "version": "3.7.0"
  }
 },
 "nbformat": 4,
 "nbformat_minor": 2
}
